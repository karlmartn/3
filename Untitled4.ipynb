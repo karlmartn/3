{
  "nbformat": 4,
  "nbformat_minor": 0,
  "metadata": {
    "colab": {
      "name": "Untitled4.ipynb",
      "provenance": [],
      "authorship_tag": "ABX9TyOBFHqT/T2gqFdtM4oLrZM/",
      "include_colab_link": true
    },
    "kernelspec": {
      "name": "python3",
      "display_name": "Python 3"
    },
    "language_info": {
      "name": "python"
    }
  },
  "cells": [
    {
      "cell_type": "markdown",
      "metadata": {
        "id": "view-in-github",
        "colab_type": "text"
      },
      "source": [
        "<a href=\"https://colab.research.google.com/github/karlmartn/3/blob/main/Untitled4.ipynb\" target=\"_parent\"><img src=\"https://colab.research.google.com/assets/colab-badge.svg\" alt=\"Open In Colab\"/></a>"
      ]
    },
    {
      "cell_type": "markdown",
      "source": [
        "#@tittle Students Grade in OOP\n",
        "\n",
        "\n",
        "Students_Name = 'Enter the student name:' #@param {type:\"string}"
      ],
      "metadata": {
        "id": "0H14Bdi4alMY"
      }
    },
    {
      "cell_type": "code",
      "source": [
        "Students_Name = 'Enter the student name:' #@param {type:\"string\"}\n",
        "prelim_grade  = 80 #@param {type: \"number\"}\n",
        "midterm_grade =  80#@param {type: \"number\"}\n",
        "final_grade =  90#@param {type: \"number\"}\n",
        "semestral = (prelim_grade*0.30 + midterm_grade*0.30 + final_grade*.40)\n",
        "\n",
        "print (\"The semestral grade of the student is:\" + str(round((semestral),2)))\n",
        "\n",
        "Gender = 'Female' #@param [\"Male\" , \"Female\"]\n",
        "Birthdate = \"2022-03-29\" #@param {type:\"date\"}\n",
        "print(Gender)\n",
        "print(\"My birthdate is\" + \" \" + Birthdate)\n",
        "\n",
        "\n"
      ],
      "metadata": {
        "colab": {
          "base_uri": "https://localhost:8080/"
        },
        "id": "Zx5EUr3HcUpu",
        "outputId": "0c33df67-4b74-4ef8-b310-878e61e0411f"
      },
      "execution_count": 10,
      "outputs": [
        {
          "output_type": "stream",
          "name": "stdout",
          "text": [
            "The semestral grade of the student is:84.0\n",
            "Male\n",
            "My birthdate is 2022-03-29\n"
          ]
        }
      ]
    }
  ]
}