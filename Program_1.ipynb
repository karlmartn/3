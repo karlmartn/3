{
  "nbformat": 4,
  "nbformat_minor": 0,
  "metadata": {
    "colab": {
      "name": "Program 1",
      "provenance": [],
      "authorship_tag": "ABX9TyNQW6v9b941nPEa1nIxuEQ8",
      "include_colab_link": true
    },
    "kernelspec": {
      "name": "python3",
      "display_name": "Python 3"
    },
    "language_info": {
      "name": "python"
    }
  },
  "cells": [
    {
      "cell_type": "markdown",
      "metadata": {
        "id": "view-in-github",
        "colab_type": "text"
      },
      "source": [
        "<a href=\"https://colab.research.google.com/github/karlmartn/3/blob/main/Program_1.ipynb\" target=\"_parent\"><img src=\"https://colab.research.google.com/assets/colab-badge.svg\" alt=\"Open In Colab\"/></a>"
      ]
    },
    {
      "cell_type": "code",
      "source": [
        "def main():\n",
        "\n",
        "  \n",
        "\n",
        " class TemperatureConversion:\n",
        "\n",
        "  def __init__(self, temp=1):\n",
        "\n",
        "   self._temp = temp\n",
        "\n",
        " class FahrenheittoCelsius(TemperatureConversion):\n",
        "\n",
        "  def conversion(self):\n",
        "\n",
        "   return (self._temp -32)*0.5556\n",
        "\n",
        " class KelvintoCelsius(TemperatureConversion):\n",
        "\n",
        "  def conversion(self):\n",
        "\n",
        "   return self._temp - 273.15\n",
        "\n",
        " tempInCelsius = float(input(\"Enter the temperature in Kelvin: \"))\n",
        "\n",
        " convert = KelvintoCelsius(tempInCelsius)\n",
        "\n",
        " print(str(convert.conversion()) + \" Celsius\")\n",
        "\n",
        " tempInCelsius = float(input(\"Enter the temperature in Farenheit: \"))\n",
        "\n",
        " convert = FahrenheittoCelsius(tempInCelsius)\n",
        "\n",
        " print(str(convert.conversion()) + \" Celsius\")\n",
        "\n",
        "\n",
        "\n",
        "main()"
      ],
      "metadata": {
        "colab": {
          "base_uri": "https://localhost:8080/"
        },
        "id": "qw4nYq2SdAg2",
        "outputId": "8317b928-8edd-4a94-c53c-3ad0533222ef"
      },
      "execution_count": 8,
      "outputs": [
        {
          "output_type": "stream",
          "name": "stdout",
          "text": [
            "Enter the temperature in Kelvin: 80\n",
            "-193.14999999999998 Celsius\n",
            "Enter the temperature in Farenheit: 80\n",
            "26.668799999999997 Celsius\n"
          ]
        }
      ]
    },
    {
      "cell_type": "code",
      "source": [
        ""
      ],
      "metadata": {
        "id": "oc-nzEI_dAh8"
      },
      "execution_count": null,
      "outputs": []
    }
  ]
}