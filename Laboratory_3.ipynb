{
  "nbformat": 4,
  "nbformat_minor": 0,
  "metadata": {
    "colab": {
      "name": "Laboratory 3",
      "provenance": [],
      "collapsed_sections": [],
      "authorship_tag": "ABX9TyNNMWobVRm5zk/luJd024Pj",
      "include_colab_link": true
    },
    "kernelspec": {
      "name": "python3",
      "display_name": "Python 3"
    },
    "language_info": {
      "name": "python"
    }
  },
  "cells": [
    {
      "cell_type": "markdown",
      "metadata": {
        "id": "view-in-github",
        "colab_type": "text"
      },
      "source": [
        "<a href=\"https://colab.research.google.com/github/karlmartn/3/blob/main/Laboratory_3.ipynb\" target=\"_parent\"><img src=\"https://colab.research.google.com/assets/colab-badge.svg\" alt=\"Open In Colab\"/></a>"
      ]
    },
    {
      "cell_type": "markdown",
      "source": [
        "Create a Class"
      ],
      "metadata": {
        "id": "gW7rkDrTHdB6"
      }
    },
    {
      "cell_type": "code",
      "source": [
        ""
      ],
      "metadata": {
        "id": "FODdDdGpO3cB"
      },
      "execution_count": null,
      "outputs": []
    },
    {
      "cell_type": "markdown",
      "source": [
        "Object Methods"
      ],
      "metadata": {
        "id": "5XFz4XwRN6lY"
      }
    },
    {
      "cell_type": "code",
      "source": [
        "class Person:\n",
        " def __init__(self,name,age):\n",
        "   self.name = name\n",
        "   self.age = age\n",
        "   def myFunction(self):\n",
        "    print(\"Hello! My name is\", self.name)\n",
        "    print(\"I am\",self.age)\n",
        "\n",
        "   p1 = Person(\"Maria\",40)\n",
        "   p1.myFunction()\n"
      ],
      "metadata": {
        "id": "sWVC35ucO9ez"
      },
      "execution_count": null,
      "outputs": []
    },
    {
      "cell_type": "markdown",
      "source": [
        "Aplication 1"
      ],
      "metadata": {
        "id": "gHskwFgTaSLL"
      }
    },
    {
      "cell_type": "code",
      "source": [
        "class Square:\n",
        "  def __init__(self,side):\n",
        "    self.side = side\n",
        "\n",
        "  def Area(self):\n",
        "    return self.side*self.side\n",
        "\n",
        "  def Perimeter(self):\n",
        "    return 4*(self.side)\n",
        "\n",
        "  def display (self):\n",
        "    print(\"The area of the square is\",self.Area())\n",
        "    print(\"The perimeter of the square is\",self.Perimeter())\n",
        "\n",
        "sq1 = Square(4)\n",
        "sq1.display()\n"
      ],
      "metadata": {
        "colab": {
          "base_uri": "https://localhost:8080/"
        },
        "id": "ad947njIYQsF",
        "outputId": "18a64978-8ac8-43c6-89f4-21dd898ffdc6"
      },
      "execution_count": null,
      "outputs": [
        {
          "output_type": "stream",
          "name": "stdout",
          "text": [
            "The area of the square is 16\n",
            "The perimeter of the square is 16\n"
          ]
        }
      ]
    },
    {
      "cell_type": "markdown",
      "source": [
        ""
      ],
      "metadata": {
        "id": "_kaTpATHarZL"
      }
    },
    {
      "cell_type": "markdown",
      "source": [
        "Aplication 2"
      ],
      "metadata": {
        "id": "PfVy9umbaraj"
      }
    },
    {
      "cell_type": "code",
      "source": [
        "# Name: Karl Martin E. Amodia\n",
        "# Age : 18 yrs old\n",
        "# School: Adamson University\n",
        "# Course : B.S Computer Engineering\n",
        "\n",
        "class Student:\n",
        "  def __init__(self, name, studentnum, age,school,course):\n",
        "    self.name = name\n",
        "    self.studentnum = studentnum\n",
        "    self.age = age\n",
        "    self.school = school\n",
        "    self.course = course\n",
        "  def Self(self):\n",
        "    print(\"Name:\",self.name)\n",
        "    print(\"Student Number:\",self.studentnum)\n",
        "    print(\"Age:\",self.age)\n",
        "    print(\"School:\",self.school)\n",
        "    print(\"Course:\",self.course)\n",
        "\n",
        "Myself = Student(\"Amodia Karl Martin E.\",202116629, 18,\"Adamson University\",\"B.S. Computer Engineering\")\n",
        "Myself.Self()"
      ],
      "metadata": {
        "colab": {
          "base_uri": "https://localhost:8080/"
        },
        "id": "raMoEvzI-Nj3",
        "outputId": "5058dcc7-09bc-41b5-bdee-28eaae2d9cab"
      },
      "execution_count": 7,
      "outputs": [
        {
          "output_type": "stream",
          "name": "stdout",
          "text": [
            "Name: Amodia Karl Martin E.\n",
            "Student Number: 202116629\n",
            "Age: 18\n",
            "School: Adamson University\n",
            "Course: B.S. Computer Engineering\n"
          ]
        }
      ]
    }
  ]
}