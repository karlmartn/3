{
  "nbformat": 4,
  "nbformat_minor": 0,
  "metadata": {
    "colab": {
      "name": "QUIZ 1",
      "provenance": [],
      "authorship_tag": "ABX9TyO39QRx4lT8t4tks7rN9ZWF",
      "include_colab_link": true
    },
    "kernelspec": {
      "name": "python3",
      "display_name": "Python 3"
    },
    "language_info": {
      "name": "python"
    }
  },
  "cells": [
    {
      "cell_type": "markdown",
      "metadata": {
        "id": "view-in-github",
        "colab_type": "text"
      },
      "source": [
        "<a href=\"https://colab.research.google.com/github/karlmartn/3/blob/main/QUIZ_1.ipynb\" target=\"_parent\"><img src=\"https://colab.research.google.com/assets/colab-badge.svg\" alt=\"Open In Colab\"/></a>"
      ]
    },
    {
      "cell_type": "code",
      "source": [
        "class Temperature:\n",
        "    temp = 0\n",
        "\n",
        "    def __init__(self, temp):\n",
        "        self.temp = temp\n",
        "\n",
        "\n",
        "    def convert_to_fahrenheit(self):\n",
        "        result = float((9 * self.temp) / 5 + 32)\n",
        "        return result\n",
        "\n",
        "    \n",
        "\n",
        "\n",
        "input_temp = float(input(\"Input temperature in celsius: \"))\n",
        "temp1 = Temperature(input_temp)\n",
        "print(\"°F\",temp1.convert_to_fahrenheit())\n",
        "\n"
      ],
      "metadata": {
        "colab": {
          "base_uri": "https://localhost:8080/"
        },
        "id": "p7_T_7jv3tlX",
        "outputId": "5c9a5ef7-18b9-45dd-dd2f-c32433adf46c"
      },
      "execution_count": 22,
      "outputs": [
        {
          "output_type": "stream",
          "name": "stdout",
          "text": [
            "Input temperature in celsius: 8\n",
            "°F 46.4\n"
          ]
        }
      ]
    }
  ]
}