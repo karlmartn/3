{
  "nbformat": 4,
  "nbformat_minor": 0,
  "metadata": {
    "colab": {
      "name": "Laboratory 4",
      "provenance": [],
      "collapsed_sections": [],
      "authorship_tag": "ABX9TyOXOQq9aejHM13yqU4/y9Fi",
      "include_colab_link": true
    },
    "kernelspec": {
      "name": "python3",
      "display_name": "Python 3"
    },
    "language_info": {
      "name": "python"
    }
  },
  "cells": [
    {
      "cell_type": "markdown",
      "metadata": {
        "id": "view-in-github",
        "colab_type": "text"
      },
      "source": [
        "<a href=\"https://colab.research.google.com/github/karlmartn/3/blob/main/Laboratory_4.ipynb\" target=\"_parent\"><img src=\"https://colab.research.google.com/assets/colab-badge.svg\" alt=\"Open In Colab\"/></a>"
      ]
    },
    {
      "cell_type": "markdown",
      "source": [
        "Classes with Multiple Objects"
      ],
      "metadata": {
        "id": "UUh56TsZU2Ws"
      }
    },
    {
      "cell_type": "code",
      "source": [
        "class Birds:\n",
        "  def __init__(self,bird_name):\n",
        "    self.bird_name = bird_name\n",
        "\n",
        "  def flying_birds(self):\n",
        "    print(f\"{self.bird_name}flies above clouds\")\n",
        "\n",
        "  def non_flying_birds(self):\n",
        "    print(f\"{self.bird_name}is the national bird of the Philippines\")\n",
        "\n",
        "vulture = Birds(\"Griffon Vulture\")\n",
        "crane = Birds(\"Common Crane\")\n",
        "emu = Birds (\"Emu\")\n",
        "\n",
        "vulture.flying_birds()\n",
        "crane.flying_birds()\n",
        "emu.non_flying_birds()"
      ],
      "metadata": {
        "colab": {
          "base_uri": "https://localhost:8080/"
        },
        "id": "rQPOV2FfU6Ht",
        "outputId": "2847b3e8-4b2d-4fad-9c70-718be6b776a1"
      },
      "execution_count": null,
      "outputs": [
        {
          "output_type": "stream",
          "name": "stdout",
          "text": [
            "Griffon Vultureflies above clouds\n",
            "Common Craneflies above clouds\n",
            "Emuis the national bird of the Philippines\n"
          ]
        }
      ]
    },
    {
      "cell_type": "markdown",
      "source": [
        "Encapsulation"
      ],
      "metadata": {
        "id": "3MrCpDIxXJAr"
      }
    },
    {
      "cell_type": "code",
      "source": [
        "class foo:\n",
        "  def __init__(self,a,b):\n",
        "    self.a = a\n",
        "    self.b = b\n",
        "\n",
        "  def add(self):\n",
        "    return self.a + self.b\n",
        "\n",
        "  def sub(self):\n",
        "    return self.a - self.b\n",
        "\n",
        "foo_object = foo(3,4)\n",
        "print(foo_object.add())\n",
        "print(foo_object.sub())\n",
        "\n",
        "foo_object_b = 5\n",
        "foo_object_a = 7\n",
        "\n",
        "print(foo_object.add())\n",
        "print(foo_object.sub())"
      ],
      "metadata": {
        "colab": {
          "base_uri": "https://localhost:8080/"
        },
        "id": "_mr_3hwkXJaS",
        "outputId": "0d46aca3-668b-4c8f-9657-2b7a86743c97"
      },
      "execution_count": null,
      "outputs": [
        {
          "output_type": "stream",
          "name": "stdout",
          "text": [
            "7\n",
            "-1\n",
            "7\n",
            "-1\n"
          ]
        }
      ]
    },
    {
      "cell_type": "code",
      "source": [
        "class Person:\n",
        "  def __init__(self,firstname,surname):\n",
        "    self.firstname = firstname\n",
        "    self.surname = surname\n",
        "\n",
        "  def printname(self):\n",
        "    print(self.firstname,self.surname)\n",
        "\n",
        "person = Person(\"Mam\",\"Sayo\")\n",
        "person.printname()\n",
        "\n",
        "class Student(Person):\n",
        "  pass \n",
        "\n",
        "person = Student(\"Karl\",\"Amodia\")\n",
        "person.printname()"
      ],
      "metadata": {
        "colab": {
          "base_uri": "https://localhost:8080/"
        },
        "id": "VsDXJtuqdYup",
        "outputId": "0b974cbe-dbd7-426e-cd58-2fc21a61cae9"
      },
      "execution_count": null,
      "outputs": [
        {
          "output_type": "stream",
          "name": "stdout",
          "text": [
            "Mam Sayo\n",
            "Karl Amodia\n"
          ]
        }
      ]
    },
    {
      "cell_type": "markdown",
      "source": [
        "Polymerphism"
      ],
      "metadata": {
        "id": "WRzotnSfgXmr"
      }
    },
    {
      "cell_type": "code",
      "source": [
        "class RegularPolygon:\n",
        "  def __init__(self,side):\n",
        "    self.side = side\n",
        "\n",
        "class Square(RegularPolygon):\n",
        "  def area(self):\n",
        "    return self.side*self.side\n",
        "\n",
        "class EquilateralTriangle(RegularPolygon):\n",
        "  def area(self):\n",
        "    return self.side*self.side*.433\n",
        "\n",
        "x = Square(4)\n",
        "y = EquilateralTriangle(3)\n",
        "\n",
        "print(x.area())\n",
        "print(y.area())"
      ],
      "metadata": {
        "colab": {
          "base_uri": "https://localhost:8080/"
        },
        "id": "t9kAAQUzgawh",
        "outputId": "330995b0-ff55-4090-e069-0286a9fee03b"
      },
      "execution_count": null,
      "outputs": [
        {
          "output_type": "stream",
          "name": "stdout",
          "text": [
            "16\n",
            "3.897\n"
          ]
        }
      ]
    },
    {
      "cell_type": "markdown",
      "source": [
        "Application 1 \n",
        "\n",
        "1.Create a python program that displays name of three students (Student 1,Student 2, Student 3) and their term grades\n",
        "2.Create a class name Person attributes - std1,std2,std3,pre,mid,fin\n",
        "3.Compute the average of each term grade using Grade() method\n",
        "4.Information about student's grades must be hidden from others."
      ],
      "metadata": {
        "id": "aq-sRdO1jccr"
      }
    },
    {
      "cell_type": "code",
      "source": [
        "class Grade:\n",
        "  def __init__(self,pre,mid,fin):\n",
        "    self.pre = pre\n",
        "    self.mid = mid\n",
        "    self.fin = fin\n",
        "\n",
        "  def average(self):\n",
        "    return self.pre*0.30 + self.mid*0.30 + self.fin*0.40\n",
        "\n",
        "std1 = Grade(1.83, 1.55, 1.32)\n",
        "std2 = Grade(1.84, 2.23, 1.73)\n",
        "std3 = Grade(2.87, 2.31, 1.34)\n",
        "print(std1.average())\n",
        "print(std2.average())\n",
        "print(std3.average())"
      ],
      "metadata": {
        "colab": {
          "base_uri": "https://localhost:8080/"
        },
        "id": "sj4D4aRSG2Z9",
        "outputId": "dc9067b4-562d-4688-a573-b274af55d521"
      },
      "execution_count": 17,
      "outputs": [
        {
          "output_type": "stream",
          "name": "stdout",
          "text": [
            "1.542\n",
            "1.9130000000000003\n",
            "2.09\n"
          ]
        }
      ]
    }
  ]
}